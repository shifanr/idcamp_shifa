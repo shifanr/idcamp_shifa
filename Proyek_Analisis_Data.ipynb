{
  "cells": [
    {
      "cell_type": "markdown",
      "metadata": {
        "id": "H9wADwK78DCz"
      },
      "source": [
        "# Proyek Analisis Data: E-Commerce Public Dataset\n",
        "- **Nama:** Shifa Nur'aeni\n",
        "- **Email:** shifanuraeni5@gmail.com\n",
        "- **ID Dicoding:** shifa_nuraeni"
      ]
    },
    {
      "cell_type": "markdown",
      "metadata": {
        "id": "eE0raob58DC0"
      },
      "source": [
        "## Menentukan Pertanyaan Bisnis"
      ]
    },
    {
      "cell_type": "markdown",
      "metadata": {
        "id": "GmQeQ5YF8DC0"
      },
      "source": [
        "- Bagaimana performa penjualan dan revenue perusahaan dalam beberapa bulan terakhir?\n",
        "- Produk apa yang paling banyak dan paling sedikit terjual?\n",
        "- Bagaimana demografi pelanggan yang kita miliki?\n",
        "- Kapan terakhir pelanggan melakukan transaksi?\n",
        "- Seberapa sering seorang pelanggan melakukan pembelian dalam beberapa bulan terakhir?\n",
        "- Berapa banyak uang yang dihabiskan pelanggan dalam beberapa bulan terakhir?"
      ]
    },
    {
      "cell_type": "markdown",
      "metadata": {
        "id": "H-z4QGlO8DC1"
      },
      "source": [
        "## Import Semua Packages/Library yang Digunakan"
      ]
    },
    {
      "cell_type": "code",
      "execution_count": null,
      "metadata": {
        "id": "FVYwaObI8DC1"
      },
      "outputs": [],
      "source": [
        "import numpy as np\n",
        "import pandas as pd\n",
        "import matplotlib.pyplot as plt\n",
        "import seaborn as sns"
      ]
    },
    {
      "cell_type": "markdown",
      "metadata": {
        "id": "h_Sh51Xy8DC1"
      },
      "source": [
        "## Data Wrangling"
      ]
    },
    {
      "cell_type": "markdown",
      "metadata": {
        "id": "sXU2GBYu8DC1"
      },
      "source": [
        "### Gathering Data"
      ]
    },
    {
      "cell_type": "code",
      "execution_count": null,
      "metadata": {
        "id": "zjCBk1BI8DC1"
      },
      "outputs": [],
      "source": [
        "#Memuat tabel customers\n",
        "customers_df = pd.read_csv(\"data\\customers_dataset.csv\")\n",
        "customers_df.head()"
      ]
    },
    {
      "cell_type": "code",
      "source": [
        "#Load tabel orders\n",
        "orders_df = pd.read_csv(\"data\\orders_dataset.csv\")\n",
        "orders_df.head()"
      ],
      "metadata": {
        "id": "AIM6sygTeWCw"
      },
      "execution_count": null,
      "outputs": []
    },
    {
      "cell_type": "code",
      "source": [
        "#Memuat tabel product\n",
        "product_df = pd.read_csv(\"data\\products_dataset.csv\")\n",
        "product_df.head()"
      ],
      "metadata": {
        "id": "ysEJHObieZFN"
      },
      "execution_count": null,
      "outputs": []
    },
    {
      "cell_type": "code",
      "source": [
        "#Load tabel order items\n",
        "order_items_df = pd.read_csv(\"data\\order_items_dataset.csv\")\n",
        "order_items_df.head()"
      ],
      "metadata": {
        "id": "la_G63fheb-3"
      },
      "execution_count": null,
      "outputs": []
    },
    {
      "cell_type": "markdown",
      "source": [
        "**Insight:**\n",
        "- Kode diatas akan memuat tabel customers dan menampilkan 5 baris pertama dari DataFrame customers_df\n",
        "- Kode diatas akan memuat tabel orders dan menampilkan 5 baris pertama dari DataFrame orders_df\n",
        "- Kode diatas akan memuat tabel product dan menampilkan 5 baris pertama dari DataFrame product_df\n",
        "- Kode diatas akan memuat tabel order items dan menampilkan 5 baris pertama dari DataFrame order_items_df\n"
      ],
      "metadata": {
        "id": "MMi6xGaDkbCi"
      }
    },
    {
      "cell_type": "markdown",
      "metadata": {
        "id": "FHSiqaZp8DC1"
      },
      "source": [
        "### Assessing Data"
      ]
    },
    {
      "cell_type": "markdown",
      "source": [
        "**Menilai Data customerd_df**"
      ],
      "metadata": {
        "id": "W4vZFKWVfJhm"
      }
    },
    {
      "cell_type": "code",
      "source": [
        "customers_df.info()\n"
      ],
      "metadata": {
        "id": "ax-3tEjc9Cj1"
      },
      "execution_count": null,
      "outputs": []
    },
    {
      "cell_type": "code",
      "source": [
        "customers_df.isna().sum()\n"
      ],
      "metadata": {
        "id": "UHTGG7XEfztf"
      },
      "execution_count": null,
      "outputs": []
    },
    {
      "cell_type": "code",
      "source": [
        "print(\"Jumlah duplikasi: \", customers_df.duplicated().sum())\n"
      ],
      "metadata": {
        "id": "7bv4ou-8f5xZ"
      },
      "execution_count": null,
      "outputs": []
    },
    {
      "cell_type": "code",
      "source": [
        "customers_df.describe()\n"
      ],
      "metadata": {
        "id": "8Mz3mWBqgBHf"
      },
      "execution_count": null,
      "outputs": []
    },
    {
      "cell_type": "markdown",
      "source": [
        "**Menilai Data orders_df**"
      ],
      "metadata": {
        "id": "nhlTHtsFgCvR"
      }
    },
    {
      "cell_type": "code",
      "source": [
        "orders_df.info()\n"
      ],
      "metadata": {
        "id": "OogKclJtgJla"
      },
      "execution_count": null,
      "outputs": []
    },
    {
      "cell_type": "code",
      "source": [
        "orders_df.describe()\n"
      ],
      "metadata": {
        "id": "KUfTx4R_gOYO"
      },
      "execution_count": null,
      "outputs": []
    },
    {
      "cell_type": "code",
      "source": [
        "orders_df.isna().sum()\n"
      ],
      "metadata": {
        "id": "VAZ0xkn8gTor"
      },
      "execution_count": null,
      "outputs": []
    },
    {
      "cell_type": "code",
      "source": [
        "orders_df.describe()\n"
      ],
      "metadata": {
        "id": "KDsyzcHsgW_E"
      },
      "execution_count": null,
      "outputs": []
    },
    {
      "cell_type": "markdown",
      "source": [
        "**Menilai Data product_df**"
      ],
      "metadata": {
        "id": "hk_6GxTfgv4g"
      }
    },
    {
      "cell_type": "code",
      "source": [
        "product_df.info()\n"
      ],
      "metadata": {
        "id": "hzPPQsKRg01I"
      },
      "execution_count": null,
      "outputs": []
    },
    {
      "cell_type": "code",
      "source": [
        "product_df.isna().sum()\n"
      ],
      "metadata": {
        "id": "HoQgnlXxg4TD"
      },
      "execution_count": null,
      "outputs": []
    },
    {
      "cell_type": "code",
      "source": [
        "print(\"Jumlah duplikasi: \", product_df.duplicated().sum())\n"
      ],
      "metadata": {
        "id": "yItNr9GYg6eC"
      },
      "execution_count": null,
      "outputs": []
    },
    {
      "cell_type": "code",
      "source": [
        "product_df.describe()\n"
      ],
      "metadata": {
        "id": "-vrGpmHTg9NG"
      },
      "execution_count": null,
      "outputs": []
    },
    {
      "cell_type": "markdown",
      "source": [
        "**Menilai Data order_items_df**"
      ],
      "metadata": {
        "id": "PxT1zlLbhBvc"
      }
    },
    {
      "cell_type": "code",
      "source": [
        "order_items_df.info()\n"
      ],
      "metadata": {
        "id": "BOaPnvoWhF9R"
      },
      "execution_count": null,
      "outputs": []
    },
    {
      "cell_type": "code",
      "source": [
        "order_items_df.isna().sum()\n"
      ],
      "metadata": {
        "id": "pgwnH24ThKoA"
      },
      "execution_count": null,
      "outputs": []
    },
    {
      "cell_type": "code",
      "source": [
        "print(\"Jumlah duplikasi: \", order_items_df.duplicated().sum())\n"
      ],
      "metadata": {
        "id": "BfdVJC7-hMxP"
      },
      "execution_count": null,
      "outputs": []
    },
    {
      "cell_type": "code",
      "source": [
        "order_items_df.describe()\n"
      ],
      "metadata": {
        "id": "xweVKIgMhO4p"
      },
      "execution_count": null,
      "outputs": []
    },
    {
      "cell_type": "markdown",
      "source": [
        "**Insight:**\n",
        "![Assesing Data.jpg](data:image/jpeg;base64,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)"
      ],
      "metadata": {
        "id": "7dtxhAPrkhPL"
      }
    },
    {
      "cell_type": "markdown",
      "metadata": {
        "id": "EhN5R4hr8DC1"
      },
      "source": [
        "### Cleaning Data"
      ]
    },
    {
      "cell_type": "markdown",
      "source": [
        "**Membersihkan Data orders_df**\n"
      ],
      "metadata": {
        "id": "myrtepeljhVJ"
      }
    },
    {
      "cell_type": "code",
      "source": [
        "orders_df[orders_df.order_approved_at.isna()]\n"
      ],
      "metadata": {
        "id": "OZhUeq7Wf28s"
      },
      "execution_count": null,
      "outputs": []
    },
    {
      "cell_type": "code",
      "source": [
        "orders_df.order_approved_at.value_counts()\n"
      ],
      "metadata": {
        "id": "3N0f2r0Tkfgy"
      },
      "execution_count": null,
      "outputs": []
    },
    {
      "cell_type": "code",
      "source": [
        "orders_df[orders_df.order_delivered_carrier_date.isna()]\n"
      ],
      "metadata": {
        "id": "6oVOMAOikiBd"
      },
      "execution_count": null,
      "outputs": []
    },
    {
      "cell_type": "code",
      "source": [
        "orders_df.order_delivered_carrier_date.value_counts()\n"
      ],
      "metadata": {
        "id": "NtAs4kVdkln6"
      },
      "execution_count": null,
      "outputs": []
    },
    {
      "cell_type": "code",
      "source": [
        "orders_df[orders_df.order_delivered_customer_date.isna()]\n"
      ],
      "metadata": {
        "id": "3OsJ5dRckogk"
      },
      "execution_count": null,
      "outputs": []
    },
    {
      "cell_type": "code",
      "source": [
        "orders_df.order_delivered_customer_date.value_counts()\n"
      ],
      "metadata": {
        "id": "DzU_sw7CktFD"
      },
      "execution_count": null,
      "outputs": []
    },
    {
      "cell_type": "code",
      "source": [
        "orders_df.fillna(value={\"order_approved_at\": \"2018-02-27 04:31:10\",\n",
        "                        \"order_delivered_carrier_date\": \"2018-05-09 15:48:00\",\n",
        "                        \"order_delivered_customer_date\": \"2018-05-08 19:36:48\"},\n",
        "                        inplace=True)\n"
      ],
      "metadata": {
        "id": "Pgfj8v_IkrHx"
      },
      "execution_count": null,
      "outputs": []
    },
    {
      "cell_type": "code",
      "source": [
        "orders_df.isna().sum()\n"
      ],
      "metadata": {
        "id": "hmPcuHEAkzAW"
      },
      "execution_count": null,
      "outputs": []
    },
    {
      "cell_type": "code",
      "source": [
        "datetime_columns = [\"order_purchase_timestamp\", \"order_approved_at\", \"order_delivered_carrier_date\", \"order_delivered_customer_date\", \"order_estimated_delivery_date\"]\n",
        "\n",
        "for column in datetime_columns:\n",
        "    orders_df[column] = pd.to_datetime(orders_df[column])"
      ],
      "metadata": {
        "id": "VocvD4UIle27"
      },
      "execution_count": null,
      "outputs": []
    },
    {
      "cell_type": "code",
      "source": [
        "orders_df.info()\n"
      ],
      "metadata": {
        "id": "GAoQX_F7llng"
      },
      "execution_count": null,
      "outputs": []
    },
    {
      "cell_type": "markdown",
      "source": [
        "**Membersihkan Data product_df**"
      ],
      "metadata": {
        "id": "XJlq8H3Xlpry"
      }
    },
    {
      "cell_type": "code",
      "source": [
        "product_df[product_df.product_category_name.isna()]\n"
      ],
      "metadata": {
        "id": "I7uivRcdmslC"
      },
      "execution_count": null,
      "outputs": []
    },
    {
      "cell_type": "code",
      "source": [
        "product_df.product_category_name.value_counts()\n"
      ],
      "metadata": {
        "id": "YBCiQ4GOmyVA"
      },
      "execution_count": null,
      "outputs": []
    },
    {
      "cell_type": "code",
      "source": [
        "product_df[product_df.product_name_lenght.isna()]\n"
      ],
      "metadata": {
        "id": "SGFYYKRlm0w_"
      },
      "execution_count": null,
      "outputs": []
    },
    {
      "cell_type": "code",
      "source": [
        "product_df.product_name_lenght.value_counts()\n"
      ],
      "metadata": {
        "id": "K52U1JWdm4Dq"
      },
      "execution_count": null,
      "outputs": []
    },
    {
      "cell_type": "code",
      "source": [
        "product_df[product_df.product_description_lenght.isna()]\n"
      ],
      "metadata": {
        "id": "X24vh5-0m6Xc"
      },
      "execution_count": null,
      "outputs": []
    },
    {
      "cell_type": "code",
      "source": [
        "product_df.product_description_lenght.value_counts()\n"
      ],
      "metadata": {
        "id": "wxrkeNCom8nq"
      },
      "execution_count": null,
      "outputs": []
    },
    {
      "cell_type": "code",
      "source": [
        "product_df[product_df.product_photos_qty.isna()]\n"
      ],
      "metadata": {
        "id": "M1-PEeW3m-7w"
      },
      "execution_count": null,
      "outputs": []
    },
    {
      "cell_type": "code",
      "source": [
        "product_df.product_photos_qty.value_counts()\n"
      ],
      "metadata": {
        "id": "4h-QYgD1nA3K"
      },
      "execution_count": null,
      "outputs": []
    },
    {
      "cell_type": "code",
      "source": [
        "product_df[product_df.product_weight_g.isna()]\n"
      ],
      "metadata": {
        "id": "T7-X-a_SnDqe"
      },
      "execution_count": null,
      "outputs": []
    },
    {
      "cell_type": "code",
      "source": [
        "product_df.product_weight_g.value_counts()\n"
      ],
      "metadata": {
        "id": "O2Tc735inGEG"
      },
      "execution_count": null,
      "outputs": []
    },
    {
      "cell_type": "code",
      "source": [
        "product_df[product_df.product_length_cm.isna()]\n"
      ],
      "metadata": {
        "id": "nIWYzJEcnH4W"
      },
      "execution_count": null,
      "outputs": []
    },
    {
      "cell_type": "code",
      "source": [
        "product_df.product_length_cm.value_counts()\n"
      ],
      "metadata": {
        "id": "y4ZOBUBRnKfT"
      },
      "execution_count": null,
      "outputs": []
    },
    {
      "cell_type": "code",
      "source": [
        "product_df[product_df.product_height_cm.isna()]\n"
      ],
      "metadata": {
        "id": "pKRnvvd4nMQT"
      },
      "execution_count": null,
      "outputs": []
    },
    {
      "cell_type": "code",
      "source": [
        "product_df.product_height_cm.value_counts()\n"
      ],
      "metadata": {
        "id": "Rp2VELXVnO--"
      },
      "execution_count": null,
      "outputs": []
    },
    {
      "cell_type": "code",
      "source": [
        "product_df[product_df.product_width_cm.isna()]\n"
      ],
      "metadata": {
        "id": "Xfs09kbxnRL1"
      },
      "execution_count": null,
      "outputs": []
    },
    {
      "cell_type": "code",
      "source": [
        "product_df.product_width_cm.value_counts()\n"
      ],
      "metadata": {
        "id": "P1a8MA7-nTig"
      },
      "execution_count": null,
      "outputs": []
    },
    {
      "cell_type": "code",
      "source": [
        "product_df.fillna(value={\"product_category_name\": \"cama_mesa_banho\",\n",
        "                        \"product_name_lenght\": 60.0,\n",
        "                        \"product_description_lenght\": 404.0,\n",
        "                        \"product_photos_qty\": 1.0,\n",
        "                        \"product_weight_g\": 200.0,\n",
        "                        \"product_length_cm\": 16.0,\n",
        "                        \"product_height_cm\": 10.0,\n",
        "                        \"product_width_cm\": 11.0},\n",
        "                        inplace=True)"
      ],
      "metadata": {
        "id": "4LE2p3E5nVcO"
      },
      "execution_count": null,
      "outputs": []
    },
    {
      "cell_type": "code",
      "source": [
        "product_df.isna().sum()\n"
      ],
      "metadata": {
        "id": "CnaBvv6cnaeI"
      },
      "execution_count": null,
      "outputs": []
    },
    {
      "cell_type": "markdown",
      "source": [
        "**Memebersihkan Data order_items_df**"
      ],
      "metadata": {
        "id": "_yf9-uaXniv6"
      }
    },
    {
      "cell_type": "code",
      "source": [
        "order_items_df[\"shipping_limit_date\"] = pd.to_datetime(order_items_df[\"shipping_limit_date\"])\n"
      ],
      "metadata": {
        "id": "5Cptz95znrA1"
      },
      "execution_count": null,
      "outputs": []
    },
    {
      "cell_type": "code",
      "source": [
        "order_items_df.info()\n"
      ],
      "metadata": {
        "id": "Peyq7E3Hnv2Z"
      },
      "execution_count": null,
      "outputs": []
    },
    {
      "cell_type": "markdown",
      "source": [
        "**Insight:**\n",
        "- Tipe data pada orders_df sudah diperbaiki\n",
        "- Missing value pada order_df sudah diperbaiki\n",
        "- Missing value pada product_df sudah diperbaiki\n",
        "- Tipe data pada order_items_df sudah diperbaiki"
      ],
      "metadata": {
        "id": "qUXjmK4ioDnO"
      }
    },
    {
      "cell_type": "markdown",
      "metadata": {
        "id": "gp-Y6wU38DC1"
      },
      "source": [
        "## Exploratory Data Analysis (EDA)"
      ]
    },
    {
      "cell_type": "markdown",
      "metadata": {
        "id": "MW7WF2kr8DC1"
      },
      "source": [
        "### Explore ..."
      ]
    },
    {
      "cell_type": "markdown",
      "source": [
        "**Eskplorasi Data customers_df**"
      ],
      "metadata": {
        "id": "kD4ravcnpHpm"
      }
    },
    {
      "cell_type": "code",
      "execution_count": null,
      "metadata": {
        "id": "e9CQCZjk8DC2"
      },
      "outputs": [],
      "source": [
        "customers_df.describe(include=\"all\")\n"
      ]
    },
    {
      "cell_type": "code",
      "source": [
        "customers_df.groupby(by=\"customer_city\").customer_id.nunique().sort_values(ascending=False)\n"
      ],
      "metadata": {
        "id": "21LjTlG-pSOR"
      },
      "execution_count": null,
      "outputs": []
    },
    {
      "cell_type": "code",
      "source": [
        "customers_df.groupby(by=\"customer_state\").customer_id.nunique().sort_values(ascending=False)\n"
      ],
      "metadata": {
        "id": "l-dNXukipWaY"
      },
      "execution_count": null,
      "outputs": []
    },
    {
      "cell_type": "code",
      "source": [
        "customers_df.groupby(by=\"customer_zip_code_prefix\").customer_id.nunique().sort_values(ascending=False)\n"
      ],
      "metadata": {
        "id": "kubozoBzpZMY"
      },
      "execution_count": null,
      "outputs": []
    },
    {
      "cell_type": "markdown",
      "source": [
        "**Eksplorasi Data orders_df**"
      ],
      "metadata": {
        "id": "IzaLG6cBpdwN"
      }
    },
    {
      "cell_type": "code",
      "source": [
        "orders_df.describe(include=\"all\")\n"
      ],
      "metadata": {
        "id": "hlyOGWxIpmDM"
      },
      "execution_count": null,
      "outputs": []
    },
    {
      "cell_type": "code",
      "source": [
        "unique_statuses = orders_df[\"order_status\"].unique()\n",
        "\n",
        "print(\"Status unik dalam kolom order_status:\")\n",
        "print(unique_statuses)"
      ],
      "metadata": {
        "id": "BIDOox1Epong"
      },
      "execution_count": null,
      "outputs": []
    },
    {
      "cell_type": "markdown",
      "source": [
        "**Eksplorasi Data order_items_df**"
      ],
      "metadata": {
        "id": "Fp4QI6qOqFoY"
      }
    },
    {
      "cell_type": "code",
      "source": [
        "order_items_df.describe(include=\"all\")\n"
      ],
      "metadata": {
        "id": "JwJYoMjGqM0F"
      },
      "execution_count": null,
      "outputs": []
    },
    {
      "cell_type": "code",
      "source": [
        "# Group by 'order_id' dan 'product_id' untuk menghitung jumlah pembelian\n",
        "quantity_df = order_items_df.groupby(['order_id', 'product_id']).size().reset_index(name='quantity')\n",
        "\n",
        "# Gabungkan hasil ke order_items_df\n",
        "order_items_df = order_items_df.merge(quantity_df, on=['order_id', 'product_id'], how='left')\n",
        "\n",
        "# order_items_df sekarang memiliki kolom 'quantity'\n"
      ],
      "metadata": {
        "id": "yqmDI1WJqPPW"
      },
      "execution_count": null,
      "outputs": []
    },
    {
      "cell_type": "code",
      "source": [
        "# Buat kolom 'total_price' dengan mengalikan 'price' dan 'quantity'\n",
        "order_items_df['total_price'] = order_items_df['price'] * order_items_df['quantity']\n"
      ],
      "metadata": {
        "id": "MSH5uMlSpuye"
      },
      "execution_count": null,
      "outputs": []
    },
    {
      "cell_type": "code",
      "source": [
        "order_items_df.head()\n"
      ],
      "metadata": {
        "id": "EezYRH1pqrKG"
      },
      "execution_count": null,
      "outputs": []
    },
    {
      "cell_type": "code",
      "source": [
        "order_items_df.describe(include=\"all\")\n"
      ],
      "metadata": {
        "id": "TzxomVBPqwVS"
      },
      "execution_count": null,
      "outputs": []
    },
    {
      "cell_type": "code",
      "source": [
        "order_items_df.sort_values(by=\"price\", ascending=False)\n"
      ],
      "metadata": {
        "id": "TAEV6wT_q2mJ"
      },
      "execution_count": null,
      "outputs": []
    },
    {
      "cell_type": "markdown",
      "source": [
        "**Eksplorasi Data orders_df dan customers_df**"
      ],
      "metadata": {
        "id": "150oIkpkq9xO"
      }
    },
    {
      "cell_type": "code",
      "source": [
        "orders_customers_df = pd.merge(\n",
        "    left=orders_df,\n",
        "    right=customers_df,\n",
        "    how=\"left\",\n",
        "    left_on=\"customer_id\",\n",
        "    right_on=\"customer_id\"\n",
        ")\n",
        "orders_customers_df.head()"
      ],
      "metadata": {
        "id": "VIdANO0ErFuC"
      },
      "execution_count": null,
      "outputs": []
    },
    {
      "cell_type": "code",
      "source": [
        "orders_customers_df.groupby(by=\"customer_city\").order_id.nunique().sort_values(ascending=False).reset_index().head(10)\n"
      ],
      "metadata": {
        "id": "GVySL3zHrJCC"
      },
      "execution_count": null,
      "outputs": []
    },
    {
      "cell_type": "code",
      "source": [
        "orders_customers_df.groupby(by=\"customer_state\").order_id.nunique().sort_values(ascending=False)\n"
      ],
      "metadata": {
        "id": "c2b34_MwrNUD"
      },
      "execution_count": null,
      "outputs": []
    },
    {
      "cell_type": "code",
      "source": [
        "orders_customers_df.groupby(by=\"customer_zip_code_prefix\").order_id.nunique().sort_values(ascending=False)\n"
      ],
      "metadata": {
        "id": "8N0HFaCcrQOn"
      },
      "execution_count": null,
      "outputs": []
    },
    {
      "cell_type": "code",
      "source": [
        "orders_customers_df[\"status_group\"] = orders_customers_df.order_status.apply(\n",
        "    lambda x: \"Completed\" if x in [\"delivered\", \"shipped\"] else (\n",
        "        \"In Progress\" if x in [\"processing\", \"invoiced\"] else (\n",
        "            \"Canceled\" if x == \"canceled\" else \"New\"\n",
        "        )\n",
        "    )\n",
        ")\n",
        "#orders_customers_df.groupby(by=\"status_group\")[\"count\"].sum().sort_values(ascending=False)\n",
        "orders_customers_df.groupby(by=\"status_group\").order_id.nunique().sort_values(ascending=False)"
      ],
      "metadata": {
        "id": "sbFoE6ByrTv5"
      },
      "execution_count": null,
      "outputs": []
    },
    {
      "cell_type": "markdown",
      "source": [
        "**Eksplorasi Data product_df dan order_items_df**"
      ],
      "metadata": {
        "id": "sipD3aBbrjL4"
      }
    },
    {
      "cell_type": "code",
      "source": [
        "seller_product_df = pd.merge(\n",
        "    left=product_df,\n",
        "    right=order_items_df,\n",
        "    how=\"left\",\n",
        "    left_on=\"product_id\",\n",
        "    right_on=\"product_id\"\n",
        ")\n",
        "seller_product_df.head()"
      ],
      "metadata": {
        "id": "Gb8mKcAbrxY1"
      },
      "execution_count": null,
      "outputs": []
    },
    {
      "cell_type": "code",
      "source": [
        "seller_product_df.groupby(by=\"product_category_name\").agg({\n",
        "    \"product_id\": \"nunique\",\n",
        "    \"quantity\": \"sum\",\n",
        "    \"price\": [\"min\", \"max\"]\n",
        "})"
      ],
      "metadata": {
        "id": "g5kk36f-r2HE"
      },
      "execution_count": null,
      "outputs": []
    },
    {
      "cell_type": "code",
      "source": [
        "seller_product_df.groupby(by=\"product_category_name\").agg({\n",
        "    \"seller_id\": \"nunique\",\n",
        "    \"quantity\": \"sum\",\n",
        "    \"total_price\": \"sum\"\n",
        "}).sort_values(by=\"total_price\", ascending=False)"
      ],
      "metadata": {
        "id": "QfJQ4bqhr5bW"
      },
      "execution_count": null,
      "outputs": []
    },
    {
      "cell_type": "markdown",
      "source": [
        "**Eksplorasi Data all_df**"
      ],
      "metadata": {
        "id": "lTyg23tdsnfV"
      }
    },
    {
      "cell_type": "code",
      "source": [
        "all_df = pd.merge(\n",
        "    left=seller_product_df,\n",
        "    right=orders_customers_df,\n",
        "    how=\"left\",\n",
        "    left_on=\"order_id\",\n",
        "    right_on=\"order_id\"\n",
        ")\n",
        "all_df.head()"
      ],
      "metadata": {
        "id": "SOq_imzlsr4E"
      },
      "execution_count": null,
      "outputs": []
    },
    {
      "cell_type": "code",
      "source": [
        "all_df.groupby(by=[\"customer_state\", \"product_category_name\"]).agg({\n",
        "    \"quantity\": \"sum\",\n",
        "    \"total_price\": \"sum\"\n",
        "})"
      ],
      "metadata": {
        "id": "4AW7xv4BsvRy"
      },
      "execution_count": null,
      "outputs": []
    },
    {
      "cell_type": "code",
      "source": [
        "all_df.groupby(by=[\"status_group\", \"product_category_name\"]).agg({\n",
        "    \"quantity\": \"sum\",\n",
        "    \"total_price\": \"sum\"\n",
        "})"
      ],
      "metadata": {
        "id": "KGnumdratCcL"
      },
      "execution_count": null,
      "outputs": []
    },
    {
      "cell_type": "markdown",
      "source": [],
      "metadata": {
        "id": "njNo8NkftFV0"
      }
    },
    {
      "cell_type": "markdown",
      "source": [
        "**Insight:**\n",
        "- xxx\n",
        "- xxx"
      ],
      "metadata": {
        "id": "th_Lzl2Fkj9O"
      }
    },
    {
      "cell_type": "markdown",
      "metadata": {
        "id": "zsyZjqak8DC2"
      },
      "source": [
        "## Visualization & Explanatory Analysis"
      ]
    },
    {
      "cell_type": "markdown",
      "metadata": {
        "id": "HZxOiQ6n8DC2"
      },
      "source": [
        "### Pertanyaan 1: Bagaimana Performa Penjualan dan Revenue Perusahaan dalam Beberapa Bulan Terakhir?"
      ]
    },
    {
      "cell_type": "code",
      "execution_count": null,
      "metadata": {
        "id": "1swJUdAD8DC2"
      },
      "outputs": [],
      "source": [
        "all_df.rename(columns={'order_purchase_timestamp': 'order_date'}, inplace=True)\n",
        "monthly_orders_df = all_df.resample(rule='M', on='order_date').agg({\n",
        "    \"order_id\": \"nunique\",\n",
        "    \"total_price\": \"sum\"\n",
        "})\n",
        "monthly_orders_df.index = monthly_orders_df.index.strftime('%Y-%m')\n",
        "monthly_orders_df = monthly_orders_df.reset_index()\n",
        "monthly_orders_df.rename(columns={\n",
        "    \"order_id\": \"order_count\",\n",
        "    \"total_price\": \"revenue\"\n",
        "}, inplace=True)\n",
        "monthly_orders_df.head()"
      ]
    },
    {
      "cell_type": "code",
      "source": [
        "monthly_orders_df = all_df.resample(rule='M', on='order_date').agg({\n",
        "    \"order_id\": \"nunique\",\n",
        "    \"total_price\": \"sum\"\n",
        "})\n",
        "\n",
        "\n",
        "monthly_orders_df.index = monthly_orders_df.index.strftime('%Y-%m')\n",
        "\n",
        "monthly_orders_df = monthly_orders_df.reset_index()\n",
        "monthly_orders_df.rename(columns={\n",
        "    \"order_id\": \"order_count\",\n",
        "    \"total_price\": \"revenue\"\n",
        "}, inplace=True)\n",
        "\n",
        "\n",
        "monthly_orders_df['order_date'] = pd.to_datetime(monthly_orders_df['order_date'], format='%Y-%m')\n",
        "\n",
        "\n",
        "monthly_orders_df = monthly_orders_df.sort_values('order_date')\n",
        "\n",
        "\n",
        "plt.figure(figsize=(10, 5))\n",
        "plt.plot(monthly_orders_df[\"order_date\"].dt.strftime('%Y-%m'), monthly_orders_df[\"order_count\"], marker='o', linewidth=2, color=\"#72BCD4\")\n",
        "plt.title(\"Number of Orders per Month (2016-2018)\", loc=\"center\", fontsize=20)\n",
        "plt.xticks(rotation=45, fontsize=10)\n",
        "plt.yticks(fontsize=10)\n",
        "plt.xlabel(\"Month in Years\", fontsize=12)\n",
        "plt.ylabel(\"Order Count\", fontsize=12)\n",
        "plt.show()\n"
      ],
      "metadata": {
        "id": "1c-RIn_Ut70f"
      },
      "execution_count": null,
      "outputs": []
    },
    {
      "cell_type": "code",
      "source": [
        "plt.figure(figsize=(10, 5))\n",
        "plt.plot(\n",
        "    monthly_orders_df[\"order_date\"],\n",
        "    monthly_orders_df[\"revenue\"],\n",
        "    marker='o',\n",
        "    linewidth=2,\n",
        "    color=\"#72BCD4\"\n",
        ")\n",
        "plt.title(\"Total Reveneu per Month (2016-2018)\", loc=\"center\", fontsize=20)\n",
        "plt.xticks(fontsize=10)\n",
        "plt.yticks(fontsize=10)\n",
        "plt.show()"
      ],
      "metadata": {
        "id": "rQM8fNo0uJaz"
      },
      "execution_count": null,
      "outputs": []
    },
    {
      "cell_type": "markdown",
      "metadata": {
        "id": "DgHI7CiU8DC2"
      },
      "source": [
        "### Pertanyaan 2: Produk Apa yang Paling Banyak dan Paling Sedikit Terjual?"
      ]
    },
    {
      "cell_type": "code",
      "execution_count": null,
      "metadata": {
        "id": "Go0lCsvO8DC2"
      },
      "outputs": [],
      "source": [
        "sum_order_items_df = all_df.groupby(\"product_category_name\").quantity.sum().sort_values(ascending=False).reset_index()\n",
        "sum_order_items_df.head(15)"
      ]
    },
    {
      "cell_type": "code",
      "source": [
        "fig, ax = plt.subplots(nrows=1, ncols=2, figsize=(24,6))\n"
      ],
      "metadata": {
        "id": "uQehaoxfuscj"
      },
      "execution_count": null,
      "outputs": []
    },
    {
      "cell_type": "code",
      "source": [
        "fig, ax = plt.subplots(nrows=1, ncols=2, figsize=(24, 6))\n",
        "\n",
        "colors = [\"#72BCD4\", \"#D3D3D3\", \"#D3D3D3\", \"#D3D3D3\", \"#D3D3D3\"]\n",
        "\n",
        "sns.barplot(x=\"quantity\", y=\"product_category_name\", data=sum_order_items_df.head(5), palette=colors, ax=ax[0])\n",
        "ax[0].set_ylabel(None)\n",
        "ax[0].set_xlabel(None)\n",
        "ax[0].set_title(\"Best Performing Product\", loc=\"center\", fontsize=15)\n",
        "ax[0].tick_params(axis ='y', labelsize=12)\n",
        "\n",
        "sns.barplot(x=\"quantity\", y=\"product_category_name\", data=sum_order_items_df.sort_values(by=\"quantity\", ascending=True).head(5), palette=colors, ax=ax[1])\n",
        "ax[1].set_ylabel(None)\n",
        "ax[1].set_xlabel(None)\n",
        "ax[1].invert_xaxis()\n",
        "ax[1].yaxis.set_label_position(\"right\")\n",
        "ax[1].yaxis.tick_right()\n",
        "ax[1].set_title(\"Worst Performing Product\", loc=\"center\", fontsize=15)\n",
        "ax[1].tick_params(axis='y', labelsize=12)\n",
        "\n",
        "plt.suptitle(\"Best and Worst Performing Product by Number of Sales\", fontsize=20)\n",
        "plt.show()"
      ],
      "metadata": {
        "id": "LNecyChGujkc"
      },
      "execution_count": null,
      "outputs": []
    },
    {
      "cell_type": "markdown",
      "source": [
        "## Analisis Lanjutan (Opsional)"
      ],
      "metadata": {
        "id": "g1GjhHTCv_Qy"
      }
    },
    {
      "cell_type": "markdown",
      "source": [
        "### Pertanyaan 3: Bagaimana Demografi Pelanggan yang Kita Miliki?"
      ],
      "metadata": {
        "id": "PU9t-OnIu-pd"
      }
    },
    {
      "cell_type": "code",
      "source": [
        "bystate_df = all_df.groupby(by=\"customer_state\").customer_id.nunique().reset_index()\n",
        "bystate_df.rename(columns={\n",
        "    \"customer_id\": \"customer_count\"\n",
        "}, inplace=True)\n",
        "bystate_df\n",
        "plt.figure(figsize=(10, 5))\n",
        "colors_ = [\"#72BCD4\", \"#D3D3D3\", \"#D3D3D3\", \"#D3D3D3\", \"#D3D3D3\", \"#D3D3D3\", \"#D3D3D3\", \"#D3D3D3\"]\n",
        "sns.barplot(\n",
        "    y=\"customer_state\",\n",
        "    x=\"customer_count\",\n",
        "    data=bystate_df.sort_values(by=\"customer_count\", ascending=False),\n",
        "    palette=colors_\n",
        ")\n",
        "plt.title(\"Number of Customer by State\", loc=\"center\", fontsize=15)\n",
        "plt.ylabel(None)\n",
        "plt.xlabel(None)\n",
        "plt.tick_params(axis='y', labelsize=12)\n",
        "plt.show()"
      ],
      "metadata": {
        "id": "5QOn26DouwB2"
      },
      "execution_count": null,
      "outputs": []
    },
    {
      "cell_type": "markdown",
      "source": [
        "### Pertanyaan 4: RFM Analysis"
      ],
      "metadata": {
        "id": "8yh-my5-vWOl"
      }
    },
    {
      "cell_type": "code",
      "source": [
        "orders_df.rename(columns={'order_purchase_timestamp': 'order_date'}, inplace=True)\n",
        "rfm_df = all_df.groupby(by=\"customer_id\", as_index=False).agg({\n",
        "    \"order_date\": \"max\",\n",
        "    \"order_id\": \"nunique\",\n",
        "    \"total_price\": \"sum\"\n",
        "})\n",
        "rfm_df.columns = [\"customer_id\", \"max_order_timestamp\", \"frequency\", \"monetary\"]\n",
        "\n",
        "#menghitung kapan terakhir pelanggan melakukan transaksi (hari)\n",
        "rfm_df[\"max_order_timestamp\"] = rfm_df[\"max_order_timestamp\"].dt.date\n",
        "recent_date = orders_df[\"order_date\"].dt.date.max()\n",
        "rfm_df[\"recency\"] = rfm_df[\"max_order_timestamp\"].apply(lambda x: (recent_date - x).days)\n",
        "\n",
        "rfm_df.drop(\"max_order_timestamp\", axis=1, inplace=True)\n",
        "rfm_df.head()"
      ],
      "metadata": {
        "id": "86-o48jLvhKH"
      },
      "execution_count": null,
      "outputs": []
    },
    {
      "cell_type": "code",
      "source": [
        "fig, ax = plt.subplots(nrows=1, ncols=3, figsize=(30, 6))\n",
        "\n",
        "colors = [\"#72BCD4\", \"#72BCD4\", \"#72BCD4\", \"#72BCD4\", \"#72BCD4\"]\n",
        "\n",
        "sns.barplot(y=\"recency\", x=\"customer_id\", data=rfm_df.sort_values(by=\"recency\", ascending=True).head(5), palette=colors, ax=ax[0])\n",
        "ax[0].set_ylabel(None)\n",
        "ax[0].set_xlabel(None)\n",
        "ax[0].set_title(\"By Recency (days)\", loc=\"center\", fontsize=18)\n",
        "ax[0].tick_params(axis = 'x', rotation=45, labelsize=15)\n",
        "\n",
        "sns.barplot(y=\"frequency\", x=\"customer_id\", data=rfm_df.sort_values(by=\"frequency\", ascending=False).head(5), palette=colors, ax=ax[1])\n",
        "ax[1].set_ylabel(None)\n",
        "ax[1].set_ylabel(None)\n",
        "ax[1].set_title(\"By Frequency\", loc=\"center\", fontsize=18)\n",
        "ax[1].tick_params(axis='x', rotation=45, labelsize=15)\n",
        "\n",
        "sns.barplot(y=\"monetary\", x=\"customer_id\", data=rfm_df.sort_values(by=\"monetary\", ascending=False).head(5), palette=colors, ax=ax[2])\n",
        "ax[2].set_ylabel(None)\n",
        "ax[2].set_ylabel(None)\n",
        "ax[2].set_title(\"By Monetary\", loc=\"center\", fontsize=18)\n",
        "ax[2].tick_params(axis='x', rotation=45, labelsize=15)\n",
        "\n",
        "plt.suptitle(\"Best Customer Based on RFM Parameters (customer_id), fontsize=20\")\n",
        "plt.show()"
      ],
      "metadata": {
        "id": "gTJw4HiNvs6C"
      },
      "execution_count": null,
      "outputs": []
    },
    {
      "cell_type": "markdown",
      "source": [
        "**Insight:**\n",
        "- xxx\n",
        "- xxx"
      ],
      "metadata": {
        "id": "_0-36BDLklRg"
      }
    },
    {
      "cell_type": "markdown",
      "metadata": {
        "id": "_WeHlCeX8DC2"
      },
      "source": [
        "## Conclusion"
      ]
    },
    {
      "cell_type": "markdown",
      "metadata": {
        "id": "ZTcyR48Y8DC2"
      },
      "source": [
        "- Conclution pertanyaan 1\n",
        "\n",
        "> Performa Penjualan:\n",
        "\n",
        "Pada bulan September 2016, terdapat hanya 3 pesanan dengan revenue 537.30.\n",
        "Penjualan mengalami peningkatan signifikan pada Oktober 2016 dengan 308 pesanan dan revenue mencapai 58,915.20.\n",
        "November 2016 tidak mencatatkan penjualan sama sekali (order dan revenue nol).\n",
        "Penjualan kembali terjadi pada Desember 2016, tetapi sangat rendah, yaitu hanya 1 pesanan dengan revenue 10.90.\n",
        "Peningkatan yang sangat signifikan terlihat pada Januari 2017 dengan 789 pesanan dan revenue mencapai 156,349.23.\n",
        "\n",
        "\n",
        "> Tren Revenue:\n",
        "\n",
        "Revenue bulanan fluktuatif, menunjukkan pola yang tidak stabil.\n",
        "Kinerja terbaik tercatat pada Januari 2017, sedangkan kinerja terburuk terjadi pada November 2016 dengan revenue nol.\n",
        "\n",
        "> Kesimpulan\n",
        "\n",
        "Performa penjualan perusahaan selama beberapa bulan terakhir menunjukkan pola yang fluktuatif, dengan puncak penjualan terjadi pada Januari 2017. Meski demikian, adanya bulan tanpa penjualan (November 2016) menjadi perhatian penting yang perlu dianalisis lebih lanjut untuk memahami faktor-faktor yang memengaruhi kinerja tersebut.\n",
        "\n",
        "- Conclution pertanyaan 2\n",
        "\n",
        "> Produk dengan Penjualan Terbanyak (Best Performing Product):\n",
        "\n",
        "Produk \"cama_mesa_banho\" merupakan produk dengan jumlah penjualan terbanyak, mencapai lebih dari 16.000 penjualan.\n",
        "Produk lain seperti \"moveis_decoracao\", \"beleza_saude\", \"informatica_acessorios\", dan \"esporte_lazer\" mengikuti di posisi berikutnya dengan penjualan yang lebih rendah.\n",
        "\n",
        "\n",
        "> Produk dengan Penjualan Paling Sedikit (Worst Performing Product):\n",
        "\n",
        "Produk \"seguros_e_servicos\" tercatat sebagai produk dengan jumlah penjualan paling sedikit, mendekati angka 0 penjualan.\n",
        "Produk lain yang juga memiliki performa buruk termasuk \"fashion_roupa_infanto_juvenil\", \"pc_gamer\", \"la_cuisine\", dan \"portateis_cozinha_e_preparadores_de_alimentos\".\n",
        "\n",
        "\n",
        "> Kesimpulan\n",
        "\n",
        "Produk \"cama_mesa_banho\" memiliki performa terbaik dengan jumlah penjualan tertinggi, sementara \"seguros_e_servicos\" menjadi produk dengan performa terburuk karena mencatat jumlah penjualan paling sedikit. Hal ini menunjukkan perbedaan signifikan dalam minat pelanggan terhadap berbagai kategori produk.\n",
        "\n",
        "- Conclution Pertanyaan 3\n",
        "\n",
        "Pelanggan perusahaan terkonsentrasi di negara bagian São Paulo (SP) sebagai pasar terbesar, dengan kontribusi pelanggan yang jauh lebih tinggi dibandingkan negara bagian lainnya. Beberapa wilayah lainnya seperti RI, MG, RS menunjukkan potensi yang cukup signifikan, sementara negara bagian di bagian utara dan timur memiliki jumlah pelanggan yang sangat terbatas. Fokus strategi bisnis dapat diarahkan ke pasar utama (SP) sambil mengeksplorasi peluang di wilayah dengan pelanggan menengah dan rendah.\n",
        "\n",
        "\n",
        "- Conclution Pertanyaan 4\n",
        "\n",
        "\n",
        "> Frequency (Frekuensi Transaksi):\n",
        "\n",
        "Semua pelanggan dalam data ini memiliki frekuensi transaksi sebesar 1, yang berarti setiap pelanggan hanya melakukan 1 kali pembelian. Hal ini menunjukkan rendahnya loyalitas pelanggan dan minimnya transaksi berulang.\n",
        "\n",
        "> Monetary (Nilai Pembelian):\n",
        "\n",
        "Nilai transaksi (monetary) bervariasi antara pelanggan, berkisar dari 54.90 hingga 179.99.\n",
        "Pelanggan dengan ID \"0001fd6190edaaf884bcaf3d49edf079\" memiliki nilai transaksi tertinggi sebesar 179.99, sedangkan pelanggan lainnya memiliki nilai yang lebih rendah.\n",
        "\n",
        "> Recency (Keterkinian Pembelian):\n",
        "\n",
        "Nilai recency (waktu sejak terakhir melakukan transaksi) sangat beragam, berkisar antara 198 hingga 596 hari.\n",
        "Pelanggan dengan recency tertinggi (596 hari) menunjukkan bahwa mereka sudah sangat lama tidak bertransaksi, sedangkan pelanggan dengan recency lebih rendah (198 hari) masih relatif lebih baru.\n",
        "\n",
        "\n",
        "\n",
        "\n",
        "\n",
        "\n",
        "\n",
        "\n",
        "\n",
        "\n",
        "\n"
      ]
    }
  ],
  "metadata": {
    "kernelspec": {
      "display_name": "Python 3",
      "language": "python",
      "name": "python3"
    },
    "language_info": {
      "name": "python",
      "version": "3.8.0 (tags/v3.8.0:fa919fd, Oct 14 2019, 19:21:23) [MSC v.1916 32 bit (Intel)]"
    },
    "orig_nbformat": 4,
    "vscode": {
      "interpreter": {
        "hash": "972b3bf27e332e87b5379f2791f6ef9dfc79c71018c370b0d7423235e20fe4d7"
      }
    },
    "colab": {
      "provenance": []
    }
  },
  "nbformat": 4,
  "nbformat_minor": 0
}